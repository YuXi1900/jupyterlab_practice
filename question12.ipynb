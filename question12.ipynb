{
 "cells": [
  {
   "cell_type": "markdown",
   "id": "272461f7-de0b-4f8b-9b12-8dc432453e20",
   "metadata": {},
   "source": [
    "We are currently working in the following directory:"
   ]
  },
  {
   "cell_type": "code",
   "execution_count": 1,
   "id": "b2d93f0d-52a6-437b-bd9d-d4b74e07cea2",
   "metadata": {},
   "outputs": [
    {
     "name": "stdout",
     "output_type": "stream",
     "text": [
      "/c/Users/xiy19/Desktop/CS_DS/Toolkit/student-a7/jupyterlab_practice\n"
     ]
    }
   ],
   "source": [
    "!pwd"
   ]
  },
  {
   "cell_type": "markdown",
   "id": "23817e33-ba8b-4f9b-9a7a-985f4b844aa5",
   "metadata": {},
   "source": [
    "To time how long it takes to run a Python cell, we could use the timeit command inside a cell as is shown below: Followed by the proper use of the timeit command to time the following loop:\n",
    "\n",
    "```\n",
    "for i in range(1_000_000):\n",
    "    i**2\n",
    "```"
   ]
  },
  {
   "cell_type": "code",
   "execution_count": null,
   "id": "71fd74e9-63cf-4c37-890b-5bd4d4ac9e0b",
   "metadata": {},
   "outputs": [],
   "source": []
  }
 ],
 "metadata": {
  "kernelspec": {
   "display_name": "Python [conda env:jupyterlab_practice_env]",
   "language": "python",
   "name": "conda-env-jupyterlab_practice_env-py"
  },
  "language_info": {
   "codemirror_mode": {
    "name": "ipython",
    "version": 3
   },
   "file_extension": ".py",
   "mimetype": "text/x-python",
   "name": "python",
   "nbconvert_exporter": "python",
   "pygments_lexer": "ipython3",
   "version": "3.12.0"
  }
 },
 "nbformat": 4,
 "nbformat_minor": 5
}
