{
 "cells": [
  {
   "cell_type": "markdown",
   "id": "0218a518-18de-4222-87d7-8a73b93b933c",
   "metadata": {},
   "source": [
    "# Yu Xi\n",
    "Notebook for assignment 7"
   ]
  },
  {
   "cell_type": "code",
   "execution_count": 1,
   "id": "0bc9f3a7-f80b-4575-88e8-c9b8de0280b1",
   "metadata": {},
   "outputs": [
    {
     "data": {
      "text/plain": [
       "5.0"
      ]
     },
     "execution_count": 1,
     "metadata": {},
     "output_type": "execute_result"
    }
   ],
   "source": [
    "def compute_mean(l):\n",
    "    return sum(l)/len(l)\n",
    "\n",
    "compute_mean([2,4,6,8])"
   ]
  },
  {
   "cell_type": "code",
   "execution_count": null,
   "id": "94c72da8-113c-4d29-8f9d-e6410f5de8c6",
   "metadata": {},
   "outputs": [],
   "source": []
  }
 ],
 "metadata": {
  "kernelspec": {
   "display_name": "Python [conda env:jupyterlab_practice_env]",
   "language": "python",
   "name": "conda-env-jupyterlab_practice_env-py"
  },
  "language_info": {
   "codemirror_mode": {
    "name": "ipython",
    "version": 3
   },
   "file_extension": ".py",
   "mimetype": "text/x-python",
   "name": "python",
   "nbconvert_exporter": "python",
   "pygments_lexer": "ipython3",
   "version": "3.12.0"
  }
 },
 "nbformat": 4,
 "nbformat_minor": 5
}
