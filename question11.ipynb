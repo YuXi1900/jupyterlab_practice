{
 "cells": [
  {
   "cell_type": "markdown",
   "id": "0218a518-18de-4222-87d7-8a73b93b933c",
   "metadata": {},
   "source": [
    "# Yu Xi\n",
    "Notebook for assignment 7"
   ]
  }
 ],
 "metadata": {
  "kernelspec": {
   "display_name": "Python [conda env:jupyterlab_practice_env]",
   "language": "python",
   "name": "conda-env-jupyterlab_practice_env-py"
  },
  "language_info": {
   "codemirror_mode": {
    "name": "ipython",
    "version": 3
   },
   "file_extension": ".py",
   "mimetype": "text/x-python",
   "name": "python",
   "nbconvert_exporter": "python",
   "pygments_lexer": "ipython3",
   "version": "3.12.0"
  }
 },
 "nbformat": 4,
 "nbformat_minor": 5
}
