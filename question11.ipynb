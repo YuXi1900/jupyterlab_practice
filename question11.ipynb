{
 "cells": [
  {
   "cell_type": "markdown",
   "id": "0218a518-18de-4222-87d7-8a73b93b933c",
   "metadata": {},
   "source": [
    "# Yu Xi\n",
    "Notebook for assignment 7"
   ]
  },
  {
   "cell_type": "code",
   "execution_count": 1,
   "id": "0bc9f3a7-f80b-4575-88e8-c9b8de0280b1",
   "metadata": {},
   "outputs": [
    {
     "name": "stdout",
     "output_type": "stream",
     "text": [
      "5.0\n"
     ]
    }
   ],
   "source": [
    "def compute_mean(l):\n",
    "    print(sum(l)/len(l))\n",
    "\n",
    "compute_mean([2,4,6,8])"
   ]
  },
  {
   "cell_type": "markdown",
   "id": "207d916f-b609-4804-a875-2146470cebed",
   "metadata": {},
   "source": [
    "The function `compute_mean` is created to calculate the mean of the values in the input list and print the result. The calculation is conducted based on:\n",
    "\n",
    "$$\n",
    "\\begin{aligned}\n",
    "\\bar{x} &=\\frac{x_1+x_2+\\cdots+x_n}{n}\\\\\n",
    "&=\\frac{1}{n} \\bigg(\\sum_{i=1}^n x_i\\bigg)\n",
    "\\end{aligned}\n",
    "$$\n"
   ]
  }
 ],
 "metadata": {
  "kernelspec": {
   "display_name": "Python [conda env:jupyterlab_practice_env]",
   "language": "python",
   "name": "conda-env-jupyterlab_practice_env-py"
  },
  "language_info": {
   "codemirror_mode": {
    "name": "ipython",
    "version": 3
   },
   "file_extension": ".py",
   "mimetype": "text/x-python",
   "name": "python",
   "nbconvert_exporter": "python",
   "pygments_lexer": "ipython3",
   "version": "3.12.0"
  }
 },
 "nbformat": 4,
 "nbformat_minor": 5
}
